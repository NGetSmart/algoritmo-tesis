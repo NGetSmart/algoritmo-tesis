{
 "cells": [
  {
   "cell_type": "markdown",
   "id": "a76c7780",
   "metadata": {},
   "source": [
    "# Algoritmo de H‑Conjuntos\n",
    "\n",
    "Este notebook permite ejecutar el algoritmo para cualquier valor de n ≥ 3."
   ]
  },
  {
   "cell_type": "code",
   "execution_count": null,
   "id": "eac89417",
   "metadata": {},
   "outputs": [],
   "source": [
    "from hsets_algorithm import (\n",
    "    hSetsBuilder,\n",
    "    hSetsCollectionsBuilder,\n",
    "    filterHSetsCollections,\n",
    ")\n",
    "\n",
    "def ejecutar(n: int):\n",
    "    \"\"\"Construye, filtra y muestra las colecciones de H‑conjuntos para el valor dado de n.\"\"\"\n",
    "    colecciones = hSetsCollectionsBuilder(hSetsBuilder(n))\n",
    "    filtradas = filterHSetsCollections(colecciones, n)\n",
    "    print(f\"n = {n}\\nColecciones filtradas:\\n{filtradas}\")"
   ]
  },
  {
   "cell_type": "code",
   "execution_count": null,
   "id": "76c2cf99",
   "metadata": {},
   "outputs": [],
   "source": [
    "n = 5  # Cambie este valor y ejecute de nuevo la celda para probar\n",
    "ejecutar(n)"
   ]
  }
 ],
 "metadata": {},
 "nbformat": 4,
 "nbformat_minor": 5
}
