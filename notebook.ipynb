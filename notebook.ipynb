{
 "cells": [
  {
   "cell_type": "markdown",
   "id": "93a1af0f",
   "metadata": {},
   "source": [
    "# Generación de todos los grafos débilmente etiquetados de n vértices"
   ]
  },
  {
   "cell_type": "markdown",
   "id": "d5665ec0",
   "metadata": {},
   "source": [
    "Este notebook contiene la implementación completa del algoritmo y una función `ejecutar(n)` para generar y mostrar las colecciones filtradas para el valor de `n` que selecciones."
   ]
  },
  {
   "cell_type": "code",
   "execution_count": null,
   "id": "88578abf",
   "metadata": {},
   "outputs": [],
   "source": [
    "from itertools import combinations, product\n",
    "\n",
    "def powerSet2(n):\n",
    "    return [list(subset) for k in range(2, n + 1) for subset in combinations(range(1, n + 1), k)]\n",
    "\n",
    "def hSetsBuilder(n):\n",
    "    if n < 3:\n",
    "        return []\n",
    "    H = [[[0, 1, 2]]]\n",
    "    for i in range(3, n + 1):\n",
    "        RV = [[] for _ in range(i - 1)]\n",
    "        for j in range(i - 2):\n",
    "            for A in H[j]:\n",
    "                if 0 in A:\n",
    "                    RV[i - j - 2].append([i - k for k in A])\n",
    "        if i % 2 == 0:\n",
    "            RV[i // 2 - 1].append([0, i // 2, i])\n",
    "        for S in powerSet2(i - 1):\n",
    "            l = len(S)\n",
    "            partialSum = i\n",
    "            for x in S:\n",
    "                partialSum += x\n",
    "            SS = [x * (l + 2) for x in S]\n",
    "            if partialSum in SS:\n",
    "                SSS = S + [0, i]\n",
    "                RV[(partialSum // (l + 2)) - 1].append(SSS)\n",
    "        for j in range(i - 2):\n",
    "            RV[j].extend(H[j])\n",
    "        H = RV\n",
    "    return H\n",
    "\n",
    "def hSetsCollectionsBuilder(H):\n",
    "    HH = [h + [[]] for h in H]\n",
    "    combinationList = [list(p) for p in product(*HH)]\n",
    "    for B in combinationList:\n",
    "        B[:] = [x for x in B if x]\n",
    "    combinationList.remove([])\n",
    "    return combinationList\n",
    "\n",
    "def verifyProperty1(A, n):\n",
    "    return set().union(*A) == set(range(n + 1))\n",
    "\n",
    "def verifyProperty3(A):\n",
    "    averages = {sum(hset) // len(hset) for hset in A}\n",
    "    for i, j in combinations(range(len(A)), 2):\n",
    "        if not (set(A[i]) & set(A[j])).issubset(averages):\n",
    "            return False\n",
    "    return True\n",
    "\n",
    "def verifyProperty4(A):\n",
    "    averages = [sum(hset) // len(hset) for hset in A]\n",
    "    for i, j in combinations(range(len(A)), 2):\n",
    "        if (averages[i] in set(A[j]) and averages[j] not in set(A[i])) or \\           (averages[j] in set(A[i]) and averages[i] not in set(A[j])):\n",
    "            return False\n",
    "    return True\n",
    "\n",
    "def filterHSetsCollections(hSetsCollection, n):\n",
    "    return [A for A in hSetsCollection if verifyProperty1(A, n) and verifyProperty4(A) and verifyProperty3(A)]\n"
   ]
  },
  {
   "cell_type": "code",
   "execution_count": null,
   "id": "aa355570",
   "metadata": {},
   "outputs": [],
   "source": [
    "def ejecutar(n):\n",
    "    \"\"\"Genera y muestra las colecciones filtradas para el n dado.\"\"\"\n",
    "    colecciones = hSetsCollectionsBuilder(hSetsBuilder(n))\n",
    "    filtradas = filterHSetsCollections(colecciones, n)\n",
    "    print(f\"n = {n}, colecciones filtradas:\")\n",
    "    for col in filtradas:\n",
    "        print(col)\n",
    "    print(\"\\nTotal de colecciones:\", len(filtradas))\n"
   ]
  },
  {
   "cell_type": "code",
   "execution_count": null,
   "id": "bf1ad331",
   "metadata": {},
   "outputs": [],
   "source": [
    "n = 5  # Modifica este valor\n",
    "ejecutar(n)"
   ]
  }
 ],
 "metadata": {},
 "nbformat": 4,
 "nbformat_minor": 5
}
